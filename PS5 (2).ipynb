{
 "cells": [
  {
   "cell_type": "markdown",
   "id": "1b8b901e-8ea3-4bf6-8510-bab596b491e2",
   "metadata": {},
   "source": [
    "# Problem Set 5"
   ]
  },
  {
   "cell_type": "code",
   "execution_count": 236,
   "id": "f1264207-07b4-4bc9-9046-14d2f15fc8aa",
   "metadata": {
    "tags": []
   },
   "outputs": [],
   "source": [
    "#!pip install nltk\n",
    "import pandas as pd\n",
    "import numpy as np\n",
    "import matplotlib.pyplot as plt\n",
    "import nltk\n",
    "from nltk.stem import PorterStemmer"
   ]
  },
  {
   "cell_type": "markdown",
   "id": "54c7958e-598c-4c42-b1ab-44e7fa01d532",
   "metadata": {},
   "source": [
    "## 1.\n",
    "### 1 and 2"
   ]
  },
  {
   "cell_type": "code",
   "execution_count": 237,
   "id": "0139a683-40f3-47b9-9447-57185a95379d",
   "metadata": {},
   "outputs": [
    {
     "data": {
      "text/html": [
       "<div>\n",
       "<style scoped>\n",
       "    .dataframe tbody tr th:only-of-type {\n",
       "        vertical-align: middle;\n",
       "    }\n",
       "\n",
       "    .dataframe tbody tr th {\n",
       "        vertical-align: top;\n",
       "    }\n",
       "\n",
       "    .dataframe thead th {\n",
       "        text-align: right;\n",
       "    }\n",
       "</style>\n",
       "<table border=\"1\" class=\"dataframe\">\n",
       "  <thead>\n",
       "    <tr style=\"text-align: right;\">\n",
       "      <th></th>\n",
       "      <th>spam</th>\n",
       "      <th>message</th>\n",
       "    </tr>\n",
       "  </thead>\n",
       "  <tbody>\n",
       "    <tr>\n",
       "      <th>0</th>\n",
       "      <td>False</td>\n",
       "      <td>Subject: re : 2 . 882 s - &gt; np np  &gt; date : su...</td>\n",
       "    </tr>\n",
       "    <tr>\n",
       "      <th>1</th>\n",
       "      <td>False</td>\n",
       "      <td>Subject: s - &gt; np + np  the discussion of s - ...</td>\n",
       "    </tr>\n",
       "    <tr>\n",
       "      <th>2</th>\n",
       "      <td>False</td>\n",
       "      <td>Subject: 2 . 882 s - &gt; np np  . . . for me it ...</td>\n",
       "    </tr>\n",
       "    <tr>\n",
       "      <th>3</th>\n",
       "      <td>False</td>\n",
       "      <td>Subject: gent conference  \" for the listserv \"...</td>\n",
       "    </tr>\n",
       "    <tr>\n",
       "      <th>4</th>\n",
       "      <td>False</td>\n",
       "      <td>Subject: query : causatives in korean  could a...</td>\n",
       "    </tr>\n",
       "  </tbody>\n",
       "</table>\n",
       "</div>"
      ],
      "text/plain": [
       "    spam                                            message\n",
       "0  False  Subject: re : 2 . 882 s - > np np  > date : su...\n",
       "1  False  Subject: s - > np + np  the discussion of s - ...\n",
       "2  False  Subject: 2 . 882 s - > np np  . . . for me it ...\n",
       "3  False  Subject: gent conference  \" for the listserv \"...\n",
       "4  False  Subject: query : causatives in korean  could a..."
      ]
     },
     "execution_count": 237,
     "metadata": {},
     "output_type": "execute_result"
    }
   ],
   "source": [
    "email = pd.read_csv(\"../data/lingspam-emails.csv.bz2\", sep = '\\t')\n",
    "email = email.drop(\"files\", axis=1)\n",
    "email['spam'] = email['spam'].astype('str') \n",
    "email['message'] = email['message'].astype('str') \n",
    "email.head()"
   ]
  },
  {
   "cell_type": "code",
   "execution_count": 238,
   "id": "6626e6a7-44d5-4d0a-90f3-bb7d5c038088",
   "metadata": {},
   "outputs": [
    {
     "data": {
      "text/plain": [
       "0"
      ]
     },
     "execution_count": 238,
     "metadata": {},
     "output_type": "execute_result"
    }
   ],
   "source": [
    "sum(email['spam'].isna())"
   ]
  },
  {
   "cell_type": "code",
   "execution_count": 239,
   "id": "88b098a9-1fe8-44b9-a446-1f8da17d9002",
   "metadata": {},
   "outputs": [
    {
     "data": {
      "text/plain": [
       "0"
      ]
     },
     "execution_count": 239,
     "metadata": {},
     "output_type": "execute_result"
    }
   ],
   "source": [
    "sum(email['message'].isna())"
   ]
  },
  {
   "cell_type": "code",
   "execution_count": 240,
   "id": "6998e706-faef-4b93-9d2d-cd6d7a2f2c42",
   "metadata": {
    "tags": []
   },
   "outputs": [
    {
     "data": {
      "text/html": [
       "<div>\n",
       "<style scoped>\n",
       "    .dataframe tbody tr th:only-of-type {\n",
       "        vertical-align: middle;\n",
       "    }\n",
       "\n",
       "    .dataframe tbody tr th {\n",
       "        vertical-align: top;\n",
       "    }\n",
       "\n",
       "    .dataframe thead th {\n",
       "        text-align: right;\n",
       "    }\n",
       "</style>\n",
       "<table border=\"1\" class=\"dataframe\">\n",
       "  <thead>\n",
       "    <tr style=\"text-align: right;\">\n",
       "      <th></th>\n",
       "      <th>spam</th>\n",
       "      <th>message</th>\n",
       "    </tr>\n",
       "  </thead>\n",
       "  <tbody>\n",
       "    <tr>\n",
       "      <th>241</th>\n",
       "      <td>True</td>\n",
       "      <td>Subject: great part-time or summer job !  * * ...</td>\n",
       "    </tr>\n",
       "    <tr>\n",
       "      <th>242</th>\n",
       "      <td>True</td>\n",
       "      <td>Subject: auto insurance rates too high ?  dear...</td>\n",
       "    </tr>\n",
       "    <tr>\n",
       "      <th>243</th>\n",
       "      <td>True</td>\n",
       "      <td>Subject: do want the best and economical hunti...</td>\n",
       "    </tr>\n",
       "    <tr>\n",
       "      <th>244</th>\n",
       "      <td>True</td>\n",
       "      <td>Subject: email 57 million people for $ 99  57 ...</td>\n",
       "    </tr>\n",
       "    <tr>\n",
       "      <th>245</th>\n",
       "      <td>True</td>\n",
       "      <td>Subject: do n't miss these !  attention ! warn...</td>\n",
       "    </tr>\n",
       "    <tr>\n",
       "      <th>246</th>\n",
       "      <td>True</td>\n",
       "      <td>Subject: see amazing world record sex !  atten...</td>\n",
       "    </tr>\n",
       "    <tr>\n",
       "      <th>247</th>\n",
       "      <td>True</td>\n",
       "      <td>Subject: we can help you get a loan ! ! !  sub...</td>\n",
       "    </tr>\n",
       "    <tr>\n",
       "      <th>248</th>\n",
       "      <td>True</td>\n",
       "      <td>Subject: beat the irs &amp; pay-no - more  = = = =...</td>\n",
       "    </tr>\n",
       "    <tr>\n",
       "      <th>249</th>\n",
       "      <td>True</td>\n",
       "      <td>Subject: email 57 million people for $ 99  57 ...</td>\n",
       "    </tr>\n",
       "    <tr>\n",
       "      <th>250</th>\n",
       "      <td>True</td>\n",
       "      <td>Subject:   make $ 3500 per week using your hom...</td>\n",
       "    </tr>\n",
       "    <tr>\n",
       "      <th>251</th>\n",
       "      <td>True</td>\n",
       "      <td>Subject: the best , just got better  the 2 new...</td>\n",
       "    </tr>\n",
       "    <tr>\n",
       "      <th>252</th>\n",
       "      <td>True</td>\n",
       "      <td>Subject: . . . . . use hypnosis to make money ...</td>\n",
       "    </tr>\n",
       "    <tr>\n",
       "      <th>253</th>\n",
       "      <td>True</td>\n",
       "      <td>Subject: the challenge  from the desk of rober...</td>\n",
       "    </tr>\n",
       "    <tr>\n",
       "      <th>254</th>\n",
       "      <td>True</td>\n",
       "      <td>Subject: * special book offer * from americana...</td>\n",
       "    </tr>\n",
       "    <tr>\n",
       "      <th>255</th>\n",
       "      <td>True</td>\n",
       "      <td>Subject: internet - finance / top - earnings /...</td>\n",
       "    </tr>\n",
       "    <tr>\n",
       "      <th>256</th>\n",
       "      <td>True</td>\n",
       "      <td>Subject: the right tools - valuable resources ...</td>\n",
       "    </tr>\n",
       "    <tr>\n",
       "      <th>257</th>\n",
       "      <td>True</td>\n",
       "      <td>Subject: 50 % or better returns .  federally m...</td>\n",
       "    </tr>\n",
       "    <tr>\n",
       "      <th>258</th>\n",
       "      <td>True</td>\n",
       "      <td>Subject: \" life without debt \"  pardon the int...</td>\n",
       "    </tr>\n",
       "    <tr>\n",
       "      <th>259</th>\n",
       "      <td>True</td>\n",
       "      <td>Subject: just released ! 10 million ! ! !  it ...</td>\n",
       "    </tr>\n",
       "    <tr>\n",
       "      <th>260</th>\n",
       "      <td>True</td>\n",
       "      <td>Subject: troubling credit history ? let us hel...</td>\n",
       "    </tr>\n",
       "  </tbody>\n",
       "</table>\n",
       "</div>"
      ],
      "text/plain": [
       "     spam                                            message\n",
       "241  True  Subject: great part-time or summer job !  * * ...\n",
       "242  True  Subject: auto insurance rates too high ?  dear...\n",
       "243  True  Subject: do want the best and economical hunti...\n",
       "244  True  Subject: email 57 million people for $ 99  57 ...\n",
       "245  True  Subject: do n't miss these !  attention ! warn...\n",
       "246  True  Subject: see amazing world record sex !  atten...\n",
       "247  True  Subject: we can help you get a loan ! ! !  sub...\n",
       "248  True  Subject: beat the irs & pay-no - more  = = = =...\n",
       "249  True  Subject: email 57 million people for $ 99  57 ...\n",
       "250  True  Subject:   make $ 3500 per week using your hom...\n",
       "251  True  Subject: the best , just got better  the 2 new...\n",
       "252  True  Subject: . . . . . use hypnosis to make money ...\n",
       "253  True  Subject: the challenge  from the desk of rober...\n",
       "254  True  Subject: * special book offer * from americana...\n",
       "255  True  Subject: internet - finance / top - earnings /...\n",
       "256  True  Subject: the right tools - valuable resources ...\n",
       "257  True  Subject: 50 % or better returns .  federally m...\n",
       "258  True  Subject: \" life without debt \"  pardon the int...\n",
       "259  True  Subject: just released ! 10 million ! ! !  it ...\n",
       "260  True  Subject: troubling credit history ? let us hel..."
      ]
     },
     "execution_count": 240,
     "metadata": {},
     "output_type": "execute_result"
    }
   ],
   "source": [
    "onlySpam = email[(email['spam'] == 'True')]\n",
    "noSpam = email[(email['spam'] == 'False')]\n",
    "onlySpam.head(20)"
   ]
  },
  {
   "cell_type": "markdown",
   "id": "26ad8e29-fb18-4bd9-a88c-f29fec9a86f7",
   "metadata": {},
   "source": [
    "Viagra, deadline, million, and, sex, beat, debt, offer, special, best"
   ]
  },
  {
   "cell_type": "markdown",
   "id": "63e9fb14-e9e0-4f11-bd55-51d4956f4032",
   "metadata": {},
   "source": [
    "## 2.\n",
    "### 1."
   ]
  },
  {
   "cell_type": "code",
   "execution_count": 241,
   "id": "c2d784f7-7b05-46e0-be71-c9042df41a00",
   "metadata": {},
   "outputs": [],
   "source": [
    "list_of_words = [\"viagra\", \"deadline\", \"million\", \"and\", \"sex\", \"beat\", \"debt\", \"offer\", \"special\",\"best\"]"
   ]
  },
  {
   "cell_type": "markdown",
   "id": "8b146a28-a89f-4f1e-8d7d-a0ef796a90c6",
   "metadata": {
    "tags": []
   },
   "source": [
    "I will use the words: Viagra, deadline, million, and, sex, beat, debt, offer, special, best\n",
    "### 2."
   ]
  },
  {
   "cell_type": "code",
   "execution_count": 242,
   "id": "bb97d1eb-f118-4771-83c1-6c5853ffe8f2",
   "metadata": {},
   "outputs": [
    {
     "data": {
      "text/html": [
       "<div>\n",
       "<style scoped>\n",
       "    .dataframe tbody tr th:only-of-type {\n",
       "        vertical-align: middle;\n",
       "    }\n",
       "\n",
       "    .dataframe tbody tr th {\n",
       "        vertical-align: top;\n",
       "    }\n",
       "\n",
       "    .dataframe thead th {\n",
       "        text-align: right;\n",
       "    }\n",
       "</style>\n",
       "<table border=\"1\" class=\"dataframe\">\n",
       "  <thead>\n",
       "    <tr style=\"text-align: right;\">\n",
       "      <th></th>\n",
       "      <th>viagra</th>\n",
       "      <th>deadline</th>\n",
       "      <th>million</th>\n",
       "      <th>and</th>\n",
       "      <th>sex</th>\n",
       "      <th>beat</th>\n",
       "      <th>debt</th>\n",
       "      <th>offer</th>\n",
       "      <th>special</th>\n",
       "      <th>best</th>\n",
       "    </tr>\n",
       "  </thead>\n",
       "  <tbody>\n",
       "    <tr>\n",
       "      <th>0</th>\n",
       "      <td>0</td>\n",
       "      <td>0</td>\n",
       "      <td>0</td>\n",
       "      <td>1</td>\n",
       "      <td>0</td>\n",
       "      <td>0</td>\n",
       "      <td>0</td>\n",
       "      <td>0</td>\n",
       "      <td>0</td>\n",
       "      <td>0</td>\n",
       "    </tr>\n",
       "    <tr>\n",
       "      <th>1</th>\n",
       "      <td>0</td>\n",
       "      <td>0</td>\n",
       "      <td>0</td>\n",
       "      <td>0</td>\n",
       "      <td>0</td>\n",
       "      <td>0</td>\n",
       "      <td>0</td>\n",
       "      <td>0</td>\n",
       "      <td>0</td>\n",
       "      <td>0</td>\n",
       "    </tr>\n",
       "    <tr>\n",
       "      <th>2</th>\n",
       "      <td>0</td>\n",
       "      <td>0</td>\n",
       "      <td>0</td>\n",
       "      <td>0</td>\n",
       "      <td>0</td>\n",
       "      <td>0</td>\n",
       "      <td>0</td>\n",
       "      <td>0</td>\n",
       "      <td>0</td>\n",
       "      <td>0</td>\n",
       "    </tr>\n",
       "    <tr>\n",
       "      <th>3</th>\n",
       "      <td>0</td>\n",
       "      <td>0</td>\n",
       "      <td>0</td>\n",
       "      <td>1</td>\n",
       "      <td>0</td>\n",
       "      <td>0</td>\n",
       "      <td>0</td>\n",
       "      <td>0</td>\n",
       "      <td>1</td>\n",
       "      <td>0</td>\n",
       "    </tr>\n",
       "    <tr>\n",
       "      <th>4</th>\n",
       "      <td>0</td>\n",
       "      <td>0</td>\n",
       "      <td>0</td>\n",
       "      <td>1</td>\n",
       "      <td>0</td>\n",
       "      <td>0</td>\n",
       "      <td>0</td>\n",
       "      <td>0</td>\n",
       "      <td>0</td>\n",
       "      <td>0</td>\n",
       "    </tr>\n",
       "  </tbody>\n",
       "</table>\n",
       "</div>"
      ],
      "text/plain": [
       "   viagra  deadline  million  and  sex  beat  debt  offer  special  best\n",
       "0       0         0        0    1    0     0     0      0        0     0\n",
       "1       0         0        0    0    0     0     0      0        0     0\n",
       "2       0         0        0    0    0     0     0      0        0     0\n",
       "3       0         0        0    1    0     0     0      0        1     0\n",
       "4       0         0        0    1    0     0     0      0        0     0"
      ]
     },
     "execution_count": 242,
     "metadata": {},
     "output_type": "execute_result"
    }
   ],
   "source": [
    "import warnings\n",
    "warnings.filterwarnings(\"ignore\")\n",
    "emails = pd.DataFrame()\n",
    "for w in list_of_words:\n",
    "    email[w] = email.message.str.lower().str.contains(w)\n",
    "    email[w] = email[w].replace(True, 1)\n",
    "    email[w] = email[w].replace(False, 0)\n",
    "    onlySpam[w] = onlySpam.message.str.lower().str.contains(w)\n",
    "    onlySpam[w] = onlySpam[w].replace(True, 1)\n",
    "    onlySpam[w] = onlySpam[w].replace(False, 0)\n",
    "emailsDTM = email[[\"viagra\", \"deadline\", \"million\", \"and\", \"sex\", \"beat\", \"debt\", \"offer\", \"special\",\"best\"]]\n",
    "emailsDTM_spam = onlySpam[[\"viagra\", \"deadline\", \"million\", \"and\", \"sex\", \"beat\", \"debt\", \"offer\", \"special\",\"best\"]]\n",
    "emailsDTM.head()"
   ]
  },
  {
   "cell_type": "markdown",
   "id": "a168bacb-5e27-4a68-abe5-333a9d96cb57",
   "metadata": {},
   "source": [
    "### 3. "
   ]
  },
  {
   "cell_type": "code",
   "execution_count": 243,
   "id": "3747315c-d607-4275-87f4-39f5798d1cd4",
   "metadata": {},
   "outputs": [],
   "source": [
    "from sklearn.model_selection import train_test_split\n",
    "X = emailsDTM\n",
    "y = (email.spam)\n",
    "Xt, Xv, yt, yv, = train_test_split(X, y, test_size=0.2)"
   ]
  },
  {
   "cell_type": "markdown",
   "id": "a65457d5-7e4c-41c0-93e9-9c107b492efe",
   "metadata": {},
   "source": [
    "## 3. Estimate and Validate"
   ]
  },
  {
   "cell_type": "markdown",
   "id": "14b248d0-86b0-4b31-a144-d728e8fd8794",
   "metadata": {},
   "source": [
    "### 1,2,3."
   ]
  },
  {
   "cell_type": "code",
   "execution_count": 244,
   "id": "3791b3e5-5fbb-4a10-9c7a-550901d550ae",
   "metadata": {},
   "outputs": [],
   "source": [
    "yyt = pd.DataFrame(data=yt) \n",
    "yytS = yyt[(yyt['spam'] == 'True')]\n",
    "yyt['spam'] = np.where(yyt['spam'] == 'True', 1 ,0)\n",
    "PrS1f = yyt.mean()\n",
    "PrS1 = PrS1f[0]\n",
    "PrS0 = ((len(yyt)-len(yytS))/len(yyt)) \n",
    "a = Xt.mean()\n",
    "PrW1Viagra, PrW1Deadline, PrW1Million, PrW1And, PrW1Sex, PrW1Beat, PrW1Debt, PrW1Offer, PrW1Special, PrW1Best = [a[i] for i in range(10)]\n",
    "PrW0Viagra, PrW0Deadline, PrW0Million, PrW0And, PrW0Sex, PrW0Beat, PrW0Debt, PrW0Offer, PrW0Special, PrW0Best = [100 - (a[i]) for i in range(10)]\n",
    "other_listW1 = [PrW1Viagra, PrW1Deadline, PrW1Million, PrW1And, PrW1Sex, PrW1Beat, PrW1Debt, PrW1Offer, PrW1Special, PrW1Best]\n",
    "other_listW0 = [PrW0Viagra, PrW0Deadline, PrW0Million, PrW0And, PrW0Sex, PrW0Beat, PrW0Debt, PrW0Offer, PrW0Special, PrW0Best]"
   ]
  },
  {
   "cell_type": "markdown",
   "id": "677858dc-7eff-496b-a6cd-b559138a13d7",
   "metadata": {},
   "source": [
    "### 4."
   ]
  },
  {
   "cell_type": "code",
   "execution_count": 245,
   "id": "b9e812b8-149e-4d64-be80-b97a56289100",
   "metadata": {},
   "outputs": [],
   "source": [
    "b1 = pd.concat([Xt,yyt],axis=1)\n",
    "b2 = b1[(b1['spam'] == 1)]\n",
    "b = b2.mean()\n",
    "c1 = b1[(b1['spam'] == 0)]\n",
    "c = c1.mean()\n",
    "PrW1ViagraS1, PrW1DeadlineS1, PrW1MillionS1, PrW1AndS1, PrW1SexS1, PrW1BeatS1, PrW1DebtS1, PrW1OfferS1, PrW1SpecialS1, PrW1BestS1 = (b[i] for i in range(10))\n",
    "PrW1ViagraS0, PrW1DeadlineS0, PrW1MillionS0, PrW1AndS0, PrW1SexS0, PrW1BeatS0, PrW1DebtS0, PrW1OfferS0, PrW1SpecialS0, PrW1BestS0 = (c[i] for i in range(10))\n",
    "other_listS1 = [PrW1ViagraS1, PrW1DeadlineS1, PrW1MillionS1, PrW1AndS1, PrW1SexS1, PrW1BeatS1, PrW1DebtS1, PrW1OfferS1, PrW1SpecialS1, PrW1BestS1]\n",
    "other_listS0 = [PrW1ViagraS0, PrW1DeadlineS0, PrW1MillionS0, PrW1AndS0, PrW1SexS0, PrW1BeatS0, PrW1DebtS0, PrW1OfferS0, PrW1SpecialS0, PrW1BestS0]"
   ]
  },
  {
   "cell_type": "markdown",
   "id": "288b4b86-8d5c-4ee6-a629-be7b632ceab9",
   "metadata": {},
   "source": [
    "### 5."
   ]
  },
  {
   "cell_type": "code",
   "execution_count": 246,
   "id": "2cd42883-c71b-4402-850c-9c96554e43e7",
   "metadata": {},
   "outputs": [],
   "source": [
    "PrW0S1 = np.mean((Xt ==0)[yt == 'True'])\n",
    "PrW0S1Viagra, PrW0S1Deadline, PrW0S1Million, PrW0S1And, PrW0S1Sex, PrW0S1Beat, PrW0S1Debt, PrW0S1Offer, PrW0S1Special, PrW0S1Best = (PrW0S1[i] for i in range(10))\n",
    "other_listW0S1 = [PrW0S1Viagra, PrW0S1Deadline, PrW0S1Million, PrW0S1And, PrW0S1Sex, PrW0S1Beat, PrW0S1Debt, PrW0S1Offer, PrW0S1Special, PrW0S1Best]\n",
    "PrS1W1Viagra, PrS1W1Deadline, PrS1W1Million, PrS1W1And, PrS1W1Sex, PrS1W1Beat, PrS1W1Debt, PrS1W1Offer, PrS1W1Special, PrS1W1Best = ((other_listS1[i] * PrS1) / other_listW1[i] for i in range(10))\n",
    "PrS1W0Viagra, PrS1W0Deadline, PrS1W0Million, PrS1W0And, PrS1W0Sex, PrS1W0Beat, PrS1W0Debt, PrS1W0Offer, PrS1W0Special, PrS0W1Best = ((other_listW0S1[i] * PrS1) / other_listW0[i] for i in range(10))\n",
    "list_S1W1 = [PrS1W1Viagra, PrS1W1Deadline, PrS1W1Million, PrS1W1And, PrS1W1Sex, PrS1W1Beat, PrS1W1Debt, PrS1W1Offer, PrS1W1Special, PrS1W1Best]\n",
    "list_S1W0 = [PrS1W0Viagra, PrS1W0Deadline, PrS1W0Million, PrS1W0And, PrS1W0Sex, PrS1W0Beat, PrS1W0Debt, PrS1W0Offer, PrS1W0Special, PrS0W1Best]"
   ]
  },
  {
   "cell_type": "markdown",
   "id": "1574a04f-cbda-46fc-b03c-75a0b42147de",
   "metadata": {},
   "source": [
    "### 6.\n",
    "- Pr(category =S1|w=1) + Pr(category =S0|w=1) = 1, Pr(category =S1|w=0) + Pr(category =S0|w=0) = 1, Pr(w=1) + Pr(w=0) = 1, Pr(category=S1) + Pr(category=S0) =1 \n",
    "These must sum to 1 because each probability is the inverse of each other, they're based on the same groups.\n",
    "- Pr(w=1|category =S1) + Pr(w=1|category =S0) != 1, Pr(category =S0|w=1) + Pr(category =S0|w=0) != 1\n",
    "These don't have to sum to 1, as the probabilities are not based on the same group."
   ]
  },
  {
   "cell_type": "markdown",
   "id": "7c31a217-b6b6-45d3-a4a8-f37cd43acb73",
   "metadata": {},
   "source": [
    "### 7."
   ]
  },
  {
   "cell_type": "code",
   "execution_count": 265,
   "id": "0a8370cd-1eff-4926-9247-6a583b3df001",
   "metadata": {},
   "outputs": [
    {
     "data": {
      "text/plain": [
       "[1.0,\n",
       " 0.0,\n",
       " 0.8245614035087719,\n",
       " 0.16384439359267736,\n",
       " 0.35151515151515156,\n",
       " 0.5161290322580645,\n",
       " 0.894736842105263,\n",
       " 0.41714285714285715,\n",
       " 0.18494271685761052,\n",
       " 0.4912891986062718]"
      ]
     },
     "execution_count": 265,
     "metadata": {},
     "output_type": "execute_result"
    }
   ],
   "source": [
    "for word in list_of_words:\n",
    "    Xv[\"Pr_\" + word] = np.where(Xv[word] == 1, list_S1W1[list_of_words.index(word)],[list_S1W0[list_of_words.index(word)]])\n",
    "predictions = Xv[['Pr_viagra', 'Pr_deadline', 'Pr_million', 'Pr_and',\n",
    "       'Pr_sex', 'Pr_beat', 'Pr_debt', 'Pr_offer', 'Pr_special', 'Pr_best']]\n",
    "predictions['Pred_viagra']=np.where(predictions['Pr_viagra'] > 0.5, 1, 0)\n",
    "predictions['Pred_deadline']=np.where(predictions['Pr_deadline'] > 0.5, 1, 0)\n",
    "predictions['Pred_million']=np.where(predictions['Pr_million'] > 0.5, 1, 0)\n",
    "predictions['Pred_and']=np.where(predictions['Pr_and'] > 0.5, 1, 0)\n",
    "predictions['Pred_sex']=np.where(predictions['Pr_sex'] > 0.5, 1, 0)\n",
    "predictions['Pred_beat']=np.where(predictions['Pr_beat'] > 0.5, 1, 0)\n",
    "predictions['Pred_debt']=np.where(predictions['Pr_debt'] > 0.5, 1, 0)\n",
    "predictions['Pred_offer']=np.where(predictions['Pr_offer'] > 0.5, 1, 0)\n",
    "predictions['Pred_special']=np.where(predictions['Pr_special'] > 0.5, 1, 0)\n",
    "predictions['Pred_best']=np.where(predictions['Pr_best'] > 0.5, 1, 0)\n",
    "predictions = predictions[['Pred_viagra',\t'Pred_deadline',\t'Pred_million',\t'Pred_and',\t'Pred_sex',\t'Pred_beat',\t'Pred_debt',\t'Pred_offer',\t'Pred_special',\t'Pred_best']]\n"
   ]
  },
  {
   "cell_type": "code",
   "execution_count": 248,
   "id": "3c4d10cf-7833-4535-a0c9-f2c6ce3c587e",
   "metadata": {},
   "outputs": [
    {
     "data": {
      "text/plain": [
       "Index(['Pred_viagra', 'Pred_deadline', 'Pred_million', 'Pred_and', 'Pred_sex',\n",
       "       'Pred_beat', 'Pred_debt', 'Pred_offer', 'Pred_special', 'Pred_best'],\n",
       "      dtype='object')"
      ]
     },
     "execution_count": 248,
     "metadata": {},
     "output_type": "execute_result"
    }
   ],
   "source": [
    "predictions.columns"
   ]
  },
  {
   "cell_type": "markdown",
   "id": "da5387bd-f847-4242-a478-9928d7fab76b",
   "metadata": {},
   "source": [
    "### 8."
   ]
  },
  {
   "cell_type": "code",
   "execution_count": 249,
   "id": "f94ccb9d-a025-4723-8227-d92343b4e0d8",
   "metadata": {},
   "outputs": [
    {
     "name": "stdout",
     "output_type": "stream",
     "text": [
      "Pred_viagra : \n",
      " [[  0  94]\n",
      " [  0 485]]\n",
      "Pred_deadline : \n",
      " [[  0  94]\n",
      " [  0 485]]\n",
      "Pred_million : \n",
      " [[ 22  72]\n",
      " [  4 481]]\n",
      "Pred_and : \n",
      " [[  0  94]\n",
      " [  0 485]]\n",
      "Pred_sex : \n",
      " [[  0  94]\n",
      " [  0 485]]\n",
      "Pred_beat : \n",
      " [[  4  90]\n",
      " [  7 478]]\n",
      "Pred_debt : \n",
      " [[  8  86]\n",
      " [  2 483]]\n",
      "Pred_offer : \n",
      " [[  0  94]\n",
      " [  0 485]]\n",
      "Pred_special : \n",
      " [[  0  94]\n",
      " [  0 485]]\n",
      "Pred_best : \n",
      " [[  0  94]\n",
      " [  0 485]]\n"
     ]
    }
   ],
   "source": [
    "from sklearn.metrics import confusion_matrix\n",
    "from sklearn.metrics import accuracy_score\n",
    "from sklearn.metrics import recall_score\n",
    "from sklearn.metrics import precision_score\n",
    "nyv = yv.to_frame()\n",
    "nyv['spam'] = np.where(nyv['spam'] == 'True', 1 ,0)\n",
    "PViagra, PDeadline, PMillion, PAnd, PSex, PBeat, PDebt, POffer, PSpecial, PBest = (predictions[column] for column in predictions)\n",
    "act = nyv[\"spam\"]\n",
    "for column in predictions:\n",
    "    cm = confusion_matrix(act,predictions[column], labels=[1,0])\n",
    "    print(column, \":\", '\\n',cm)"
   ]
  },
  {
   "cell_type": "code",
   "execution_count": 250,
   "id": "90f00b0f-851c-4251-a485-df13093a0e45",
   "metadata": {},
   "outputs": [
    {
     "name": "stdout",
     "output_type": "stream",
     "text": [
      "Pred_viagra accuracy 0.8376511226252159 precision: 0.0 recall 0.0\n",
      "Pred_deadline accuracy 0.8376511226252159 precision: 0.0 recall 0.0\n",
      "Pred_million accuracy 0.8687392055267703 precision: 0.8461538461538461 recall 0.23404255319148937\n",
      "Pred_and accuracy 0.8376511226252159 precision: 0.0 recall 0.0\n",
      "Pred_sex accuracy 0.8376511226252159 precision: 0.0 recall 0.0\n",
      "Pred_beat accuracy 0.8324697754749568 precision: 0.36363636363636365 recall 0.0425531914893617\n",
      "Pred_debt accuracy 0.8480138169257341 precision: 0.8 recall 0.0851063829787234\n",
      "Pred_offer accuracy 0.8376511226252159 precision: 0.0 recall 0.0\n",
      "Pred_special accuracy 0.8376511226252159 precision: 0.0 recall 0.0\n",
      "Pred_best accuracy 0.8376511226252159 precision: 0.0 recall 0.0\n"
     ]
    }
   ],
   "source": [
    "for column in predictions:\n",
    "    accuracy = accuracy_score(act, predictions[column])\n",
    "    recall = recall_score(act, predictions[column])\n",
    "    precision = precision_score(act,predictions[column])\n",
    "    print(column,'accuracy',accuracy,'precision:', precision,'recall', recall)"
   ]
  },
  {
   "cell_type": "markdown",
   "id": "9dcee921-9aac-4dfa-a638-8e60833fd67a",
   "metadata": {},
   "source": [
    "### 9."
   ]
  },
  {
   "cell_type": "markdown",
   "id": "b69ebd9f-cc02-46c7-b7d7-eee6a1bc7eca",
   "metadata": {},
   "source": [
    "In this case, the training model is the data we gathered from the dataset, email. We used the training model in all our probability calculations to make the model, and then we used the validation to test our model, which seems to be 86% accurate. \n",
    "### 10."
   ]
  },
  {
   "cell_type": "markdown",
   "id": "dc8da7e4-ee99-4b97-94fa-51abb68337e3",
   "metadata": {},
   "source": [
    "The accuracy score was about 81.6%, the precisionw was about 45.7%, and the recall was about 38.4%."
   ]
  },
  {
   "cell_type": "markdown",
   "id": "77a9e47e-cdc4-4ebe-b68d-43251730a730",
   "metadata": {},
   "source": [
    "### 11.\n",
    "We see a low recall because we didn't identify all the true spam's correctly. Our model is obviously flawed becuase it marks emails with certain words as spam immidiately without considering any other factors."
   ]
  },
  {
   "cell_type": "markdown",
   "id": "f7c2e947-225b-4851-ba47-a83405676aa2",
   "metadata": {},
   "source": [
    "### 12.\n",
    "Million improves accuracy becuase there's more spam emails with the word million in it. Viagra doesn't work because there were no emails with viagra in them in the validation data. None of the emails with deadline in them were spam. And did not work because there were so many emails that contained the word and.\n",
    "### 13./14."
   ]
  },
  {
   "cell_type": "markdown",
   "id": "c5d91380-a8e3-47ad-93be-36ca7940c784",
   "metadata": {},
   "source": [
    "dont run again:"
   ]
  },
  {
   "cell_type": "code",
   "execution_count": 251,
   "id": "cb3b24f9-cc01-4c15-9bb4-1e52036ab773",
   "metadata": {},
   "outputs": [],
   "source": [
    "df2 = {'viagra': 0, 'deadline':0, 'million': 0, 'and':0, 'sex':0,'beat':0,'debt':0,'offer':0,'special':0,'best':0}\n",
    "df3 = {'viagra': 1, 'deadline':1, 'million':1, 'and': 1, 'sex':1,'beat':1,'debt':1,'offer':1,'special':1,'best':1}\n",
    "Xv = Xv.append(df2, ignore_index = True)\n",
    "Xv = Xv.append(df3, ignore_index = True)"
   ]
  },
  {
   "cell_type": "code",
   "execution_count": 252,
   "id": "d318317b-0014-4605-8dcc-8c919003c1ff",
   "metadata": {},
   "outputs": [
    {
     "data": {
      "text/html": [
       "<div>\n",
       "<style scoped>\n",
       "    .dataframe tbody tr th:only-of-type {\n",
       "        vertical-align: middle;\n",
       "    }\n",
       "\n",
       "    .dataframe tbody tr th {\n",
       "        vertical-align: top;\n",
       "    }\n",
       "\n",
       "    .dataframe thead th {\n",
       "        text-align: right;\n",
       "    }\n",
       "</style>\n",
       "<table border=\"1\" class=\"dataframe\">\n",
       "  <thead>\n",
       "    <tr style=\"text-align: right;\">\n",
       "      <th></th>\n",
       "      <th>viagra</th>\n",
       "      <th>deadline</th>\n",
       "      <th>million</th>\n",
       "      <th>and</th>\n",
       "      <th>sex</th>\n",
       "      <th>beat</th>\n",
       "      <th>debt</th>\n",
       "      <th>offer</th>\n",
       "      <th>special</th>\n",
       "      <th>best</th>\n",
       "      <th>Pr_viagra</th>\n",
       "      <th>Pr_deadline</th>\n",
       "      <th>Pr_million</th>\n",
       "      <th>Pr_and</th>\n",
       "      <th>Pr_sex</th>\n",
       "      <th>Pr_beat</th>\n",
       "      <th>Pr_debt</th>\n",
       "      <th>Pr_offer</th>\n",
       "      <th>Pr_special</th>\n",
       "      <th>Pr_best</th>\n",
       "    </tr>\n",
       "  </thead>\n",
       "  <tbody>\n",
       "    <tr>\n",
       "      <th>576</th>\n",
       "      <td>0.0</td>\n",
       "      <td>0.0</td>\n",
       "      <td>0.0</td>\n",
       "      <td>1.0</td>\n",
       "      <td>0.0</td>\n",
       "      <td>0.0</td>\n",
       "      <td>0.0</td>\n",
       "      <td>0.0</td>\n",
       "      <td>0.0</td>\n",
       "      <td>0.0</td>\n",
       "      <td>0.001668</td>\n",
       "      <td>0.001675</td>\n",
       "      <td>0.001267</td>\n",
       "      <td>0.163844</td>\n",
       "      <td>0.001423</td>\n",
       "      <td>0.001603</td>\n",
       "      <td>0.001526</td>\n",
       "      <td>0.001043</td>\n",
       "      <td>0.001187</td>\n",
       "      <td>0.001064</td>\n",
       "    </tr>\n",
       "    <tr>\n",
       "      <th>577</th>\n",
       "      <td>0.0</td>\n",
       "      <td>0.0</td>\n",
       "      <td>0.0</td>\n",
       "      <td>1.0</td>\n",
       "      <td>0.0</td>\n",
       "      <td>0.0</td>\n",
       "      <td>0.0</td>\n",
       "      <td>0.0</td>\n",
       "      <td>1.0</td>\n",
       "      <td>0.0</td>\n",
       "      <td>0.001668</td>\n",
       "      <td>0.001675</td>\n",
       "      <td>0.001267</td>\n",
       "      <td>0.163844</td>\n",
       "      <td>0.001423</td>\n",
       "      <td>0.001603</td>\n",
       "      <td>0.001526</td>\n",
       "      <td>0.001043</td>\n",
       "      <td>0.184943</td>\n",
       "      <td>0.001064</td>\n",
       "    </tr>\n",
       "    <tr>\n",
       "      <th>578</th>\n",
       "      <td>0.0</td>\n",
       "      <td>0.0</td>\n",
       "      <td>0.0</td>\n",
       "      <td>1.0</td>\n",
       "      <td>0.0</td>\n",
       "      <td>0.0</td>\n",
       "      <td>0.0</td>\n",
       "      <td>0.0</td>\n",
       "      <td>0.0</td>\n",
       "      <td>0.0</td>\n",
       "      <td>0.001668</td>\n",
       "      <td>0.001675</td>\n",
       "      <td>0.001267</td>\n",
       "      <td>0.163844</td>\n",
       "      <td>0.001423</td>\n",
       "      <td>0.001603</td>\n",
       "      <td>0.001526</td>\n",
       "      <td>0.001043</td>\n",
       "      <td>0.001187</td>\n",
       "      <td>0.001064</td>\n",
       "    </tr>\n",
       "    <tr>\n",
       "      <th>579</th>\n",
       "      <td>0.0</td>\n",
       "      <td>0.0</td>\n",
       "      <td>0.0</td>\n",
       "      <td>0.0</td>\n",
       "      <td>0.0</td>\n",
       "      <td>0.0</td>\n",
       "      <td>0.0</td>\n",
       "      <td>0.0</td>\n",
       "      <td>0.0</td>\n",
       "      <td>0.0</td>\n",
       "      <td>NaN</td>\n",
       "      <td>NaN</td>\n",
       "      <td>NaN</td>\n",
       "      <td>NaN</td>\n",
       "      <td>NaN</td>\n",
       "      <td>NaN</td>\n",
       "      <td>NaN</td>\n",
       "      <td>NaN</td>\n",
       "      <td>NaN</td>\n",
       "      <td>NaN</td>\n",
       "    </tr>\n",
       "    <tr>\n",
       "      <th>580</th>\n",
       "      <td>1.0</td>\n",
       "      <td>1.0</td>\n",
       "      <td>1.0</td>\n",
       "      <td>1.0</td>\n",
       "      <td>1.0</td>\n",
       "      <td>1.0</td>\n",
       "      <td>1.0</td>\n",
       "      <td>1.0</td>\n",
       "      <td>1.0</td>\n",
       "      <td>1.0</td>\n",
       "      <td>NaN</td>\n",
       "      <td>NaN</td>\n",
       "      <td>NaN</td>\n",
       "      <td>NaN</td>\n",
       "      <td>NaN</td>\n",
       "      <td>NaN</td>\n",
       "      <td>NaN</td>\n",
       "      <td>NaN</td>\n",
       "      <td>NaN</td>\n",
       "      <td>NaN</td>\n",
       "    </tr>\n",
       "  </tbody>\n",
       "</table>\n",
       "</div>"
      ],
      "text/plain": [
       "     viagra  deadline  million  and  sex  beat  debt  offer  special  best  \\\n",
       "576     0.0       0.0      0.0  1.0  0.0   0.0   0.0    0.0      0.0   0.0   \n",
       "577     0.0       0.0      0.0  1.0  0.0   0.0   0.0    0.0      1.0   0.0   \n",
       "578     0.0       0.0      0.0  1.0  0.0   0.0   0.0    0.0      0.0   0.0   \n",
       "579     0.0       0.0      0.0  0.0  0.0   0.0   0.0    0.0      0.0   0.0   \n",
       "580     1.0       1.0      1.0  1.0  1.0   1.0   1.0    1.0      1.0   1.0   \n",
       "\n",
       "     Pr_viagra  Pr_deadline  Pr_million    Pr_and    Pr_sex   Pr_beat  \\\n",
       "576   0.001668     0.001675    0.001267  0.163844  0.001423  0.001603   \n",
       "577   0.001668     0.001675    0.001267  0.163844  0.001423  0.001603   \n",
       "578   0.001668     0.001675    0.001267  0.163844  0.001423  0.001603   \n",
       "579        NaN          NaN         NaN       NaN       NaN       NaN   \n",
       "580        NaN          NaN         NaN       NaN       NaN       NaN   \n",
       "\n",
       "      Pr_debt  Pr_offer  Pr_special   Pr_best  \n",
       "576  0.001526  0.001043    0.001187  0.001064  \n",
       "577  0.001526  0.001043    0.184943  0.001064  \n",
       "578  0.001526  0.001043    0.001187  0.001064  \n",
       "579       NaN       NaN         NaN       NaN  \n",
       "580       NaN       NaN         NaN       NaN  "
      ]
     },
     "execution_count": 252,
     "metadata": {},
     "output_type": "execute_result"
    }
   ],
   "source": [
    "Xv.tail(5)"
   ]
  },
  {
   "cell_type": "code",
   "execution_count": 253,
   "id": "32491a93-6749-4656-add8-4b14bd08f009",
   "metadata": {
    "tags": []
   },
   "outputs": [
    {
     "name": "stdout",
     "output_type": "stream",
     "text": [
      "Pred_viagra : \n",
      " [[  0  94]\n",
      " [  1 486]]\n",
      "Pred_deadline : \n",
      " [[  0  94]\n",
      " [  0 487]]\n",
      "Pred_million : \n",
      " [[ 22  72]\n",
      " [  5 482]]\n",
      "Pred_and : \n",
      " [[  0  94]\n",
      " [  0 487]]\n",
      "Pred_sex : \n",
      " [[  0  94]\n",
      " [  0 487]]\n",
      "Pred_beat : \n",
      " [[  4  90]\n",
      " [  8 479]]\n",
      "Pred_debt : \n",
      " [[  8  86]\n",
      " [  3 484]]\n",
      "Pred_offer : \n",
      " [[  0  94]\n",
      " [  0 487]]\n",
      "Pred_special : \n",
      " [[  0  94]\n",
      " [  0 487]]\n",
      "Pred_best : \n",
      " [[  0  94]\n",
      " [  0 487]]\n",
      "\n",
      "Pred_viagra accuracy 0.8364888123924269 precision: 0.0 recall 0.0\n",
      "Pred_deadline accuracy 0.8382099827882961 precision: 0.0 recall 0.0\n",
      "Pred_million accuracy 0.8674698795180723 precision: 0.8148148148148148 recall 0.23404255319148937\n",
      "Pred_and accuracy 0.8382099827882961 precision: 0.0 recall 0.0\n",
      "Pred_sex accuracy 0.8382099827882961 precision: 0.0 recall 0.0\n",
      "Pred_beat accuracy 0.8313253012048193 precision: 0.3333333333333333 recall 0.0425531914893617\n",
      "Pred_debt accuracy 0.846815834767642 precision: 0.7272727272727273 recall 0.0851063829787234\n",
      "Pred_offer accuracy 0.8382099827882961 precision: 0.0 recall 0.0\n",
      "Pred_special accuracy 0.8382099827882961 precision: 0.0 recall 0.0\n",
      "Pred_best accuracy 0.8382099827882961 precision: 0.0 recall 0.0\n"
     ]
    }
   ],
   "source": [
    "yyt = pd.DataFrame(data=yt) \n",
    "yytS = yyt[(yyt['spam'] == 'True')]\n",
    "yyt['spam'] = np.where(yyt['spam'] == 'True', 1 ,0)\n",
    "PrS1f = yyt.mean()\n",
    "PrS1 = PrS1f[0]\n",
    "PrS0 = ((len(yyt)-len(yytS))/len(yyt)) \n",
    "a = Xt.mean()\n",
    "PrW1Viagra, PrW1Deadline, PrW1Million, PrW1And, PrW1Sex, PrW1Beat, PrW1Debt, PrW1Offer, PrW1Special, PrW1Best = [a[i] for i in range(10)]\n",
    "PrW0Viagra, PrW0Deadline, PrW0Million, PrW0And, PrW0Sex, PrW0Beat, PrW0Debt, PrW0Offer, PrW0Special, PrW0Best = [100 - (a[i]) for i in range(10)]\n",
    "other_listW1 = [PrW1Viagra, PrW1Deadline, PrW1Million, PrW1And, PrW1Sex, PrW1Beat, PrW1Debt, PrW1Offer, PrW1Special, PrW1Best]\n",
    "other_listW0 = [PrW0Viagra, PrW0Deadline, PrW0Million, PrW0And, PrW0Sex, PrW0Beat, PrW0Debt, PrW0Offer, PrW0Special, PrW0Best]\n",
    "\n",
    "b1 = pd.concat([Xt,yyt],axis=1)\n",
    "b2 = b1[(b1['spam'] == 1)]\n",
    "b = b2.mean()\n",
    "c1 = b1[(b1['spam'] == 0)]\n",
    "c = c1.mean()\n",
    "PrW1ViagraS1, PrW1DeadlineS1, PrW1MillionS1, PrW1AndS1, PrW1SexS1, PrW1BeatS1, PrW1DebtS1, PrW1OfferS1, PrW1SpecialS1, PrW1BestS1 = (b[i] for i in range(10))\n",
    "PrW1ViagraS0, PrW1DeadlineS0, PrW1MillionS0, PrW1AndS0, PrW1SexS0, PrW1BeatS0, PrW1DebtS0, PrW1OfferS0, PrW1SpecialS0, PrW1BestS0 = (c[i] for i in range(10))\n",
    "other_listS1 = [PrW1ViagraS1, PrW1DeadlineS1, PrW1MillionS1, PrW1AndS1, PrW1SexS1, PrW1BeatS1, PrW1DebtS1, PrW1OfferS1, PrW1SpecialS1, PrW1BestS1]\n",
    "other_listS0 = [PrW1ViagraS0, PrW1DeadlineS0, PrW1MillionS0, PrW1AndS0, PrW1SexS0, PrW1BeatS0, PrW1DebtS0, PrW1OfferS0, PrW1SpecialS0, PrW1BestS0]\n",
    "\n",
    "PrW0S1 = np.mean((Xt ==0)[yt == 'True'])\n",
    "PrW0S1Viagra, PrW0S1Deadline, PrW0S1Million, PrW0S1And, PrW0S1Sex, PrW0S1Beat, PrW0S1Debt, PrW0S1Offer, PrW0S1Special, PrW0S1Best = (PrW0S1[i] for i in range(10))\n",
    "other_listW0S1 = [PrW0S1Viagra, PrW0S1Deadline, PrW0S1Million, PrW0S1And, PrW0S1Sex, PrW0S1Beat, PrW0S1Debt, PrW0S1Offer, PrW0S1Special, PrW0S1Best]\n",
    "PrS1W1Viagra, PrS1W1Deadline, PrS1W1Million, PrS1W1And, PrS1W1Sex, PrS1W1Beat, PrS1W1Debt, PrS1W1Offer, PrS1W1Special, PrS1W1Best = ((other_listS1[i] * PrS1) / other_listW1[i] for i in range(10))\n",
    "PrS1W0Viagra, PrS1W0Deadline, PrS1W0Million, PrS1W0And, PrS1W0Sex, PrS1W0Beat, PrS1W0Debt, PrS1W0Offer, PrS1W0Special, PrS0W1Best = ((other_listW0S1[i] * PrS1) / other_listW0[i] for i in range(10))\n",
    "list_S1W1 = [PrS1W1Viagra, PrS1W1Deadline, PrS1W1Million, PrS1W1And, PrS1W1Sex, PrS1W1Beat, PrS1W1Debt, PrS1W1Offer, PrS1W1Special, PrS1W1Best]\n",
    "list_S1W0 = [PrS1W0Viagra, PrS1W0Deadline, PrS1W0Million, PrS1W0And, PrS1W0Sex, PrS1W0Beat, PrS1W0Debt, PrS1W0Offer, PrS1W0Special, PrS0W1Best]\n",
    "\n",
    "for word in list_of_words:\n",
    "    Xv[\"Pr_\" + word] = np.where(Xv[word] == 1, list_S1W1[list_of_words.index(word)],[list_S1W0[list_of_words.index(word)]])\n",
    "\n",
    "predictions = Xv[['Pr_viagra', 'Pr_deadline', 'Pr_million', 'Pr_and',\n",
    "       'Pr_sex', 'Pr_beat', 'Pr_debt', 'Pr_offer', 'Pr_special', 'Pr_best']]\n",
    "predictions['Pred_viagra']=np.where(predictions['Pr_viagra'] > 0.5, 1, 0)\n",
    "predictions['Pred_deadline']=np.where(predictions['Pr_deadline'] > 0.5, 1, 0)\n",
    "predictions['Pred_million']=np.where(predictions['Pr_million'] > 0.5, 1, 0)\n",
    "predictions['Pred_and']=np.where(predictions['Pr_and'] > 0.5, 1, 0)\n",
    "predictions['Pred_sex']=np.where(predictions['Pr_sex'] > 0.5, 1, 0)\n",
    "predictions['Pred_beat']=np.where(predictions['Pr_beat'] > 0.5, 1, 0)\n",
    "predictions['Pred_debt']=np.where(predictions['Pr_debt'] > 0.5, 1, 0)\n",
    "predictions['Pred_offer']=np.where(predictions['Pr_offer'] > 0.5, 1, 0)\n",
    "predictions['Pred_special']=np.where(predictions['Pr_special'] > 0.5, 1, 0)\n",
    "predictions['Pred_best']=np.where(predictions['Pr_best'] > 0.5, 1, 0)\n",
    "predictions = predictions[['Pred_viagra',\t'Pred_deadline',\t'Pred_million',\t'Pred_and',\t'Pred_sex',\t'Pred_beat',\t'Pred_debt',\t'Pred_offer',\t'Pred_special',\t'Pred_best']]\n",
    "    \n",
    "nyv = yv.to_frame()\n",
    "df4 = {'spam':0}\n",
    "df5 = {'spam':1}\n",
    "nyv = nyv.append(df4, ignore_index=True)\n",
    "nyv = nyv.append(df5, ignore_index=True)\n",
    "nyv['spam'] = np.where(nyv['spam'] == 'True', 1 ,0)\n",
    "PViagra, PDeadline, PMillion, PAnd, PSex, PBeat, PDebt, POffer, PSpecial, PBest = (predictions[column] for column in predictions)\n",
    "act = nyv[\"spam\"]\n",
    "for column in predictions:\n",
    "    cm = confusion_matrix(act,predictions[column], labels=[1,0])\n",
    "    print(column, \":\", '\\n',cm)\n",
    "\n",
    "print()\n",
    "    \n",
    "for column in predictions:\n",
    "    accuracy = accuracy_score(act, predictions[column])\n",
    "    recall = recall_score(act, predictions[column])\n",
    "    precision = precision_score(act,predictions[column])\n",
    "    print(column,'accuracy',accuracy,'precision:', precision,'recall', recall)"
   ]
  },
  {
   "cell_type": "markdown",
   "id": "15d5149c-2baa-455a-8b28-0f3ab6bb2b6b",
   "metadata": {
    "tags": []
   },
   "source": [
    "### 15.\n",
    "Smoothing brought all the numbers down except recall, however it was by a small margin"
   ]
  }
 ],
 "metadata": {
  "kernelspec": {
   "display_name": "Python 3 (ipykernel)",
   "language": "python",
   "name": "python3"
  },
  "language_info": {
   "codemirror_mode": {
    "name": "ipython",
    "version": 3
   },
   "file_extension": ".py",
   "mimetype": "text/x-python",
   "name": "python",
   "nbconvert_exporter": "python",
   "pygments_lexer": "ipython3",
   "version": "3.9.7"
  }
 },
 "nbformat": 4,
 "nbformat_minor": 5
}
